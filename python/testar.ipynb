{
 "cells": [
  {
   "cell_type": "code",
   "execution_count": 1,
   "metadata": {},
   "outputs": [
    {
     "name": "stdout",
     "output_type": "stream",
     "text": [
      "Num GPUs Available:  1\n"
     ]
    }
   ],
   "source": [
    "%load_ext autoreload\n",
    "%autoreload 2\n",
    "\n",
    "from gpu import set_gpu\n",
    "import numpy as np\n",
    "import os\n",
    "import adapt.utils.data_utils as prd\n",
    "import adapt.loop as lp\n",
    "import adapt.ml.lda as dlda\n",
    "import matplotlib.pyplot as plt\n",
    "import matplotlib.cm as cm\n",
    "import adapt.ml.dl_subclass as dl\n",
    "import copy as cp\n",
    "import tensorflow as tf\n",
    "import pickle\n",
    "from datetime import datetime\n",
    "import time\n",
    "from IPython import display\n",
    "\n",
    "set_gpu()\n",
    "import scipy as scipy"
   ]
  },
  {
   "cell_type": "code",
   "execution_count": 2,
   "metadata": {},
   "outputs": [],
   "source": [
    "struct = scipy.io.loadmat('C:/Users/yteh/Documents/work/git/projects/adaptive/matlab/ARtest2.mat')\n",
    "daq = struct['data']\n",
    "feat = struct['feat']"
   ]
  },
  {
   "cell_type": "code",
   "execution_count": 13,
   "metadata": {},
   "outputs": [],
   "source": [
    "order = 6\n",
    "data = daq[:1,0,...]\n",
    "samp = data.shape[0]\n",
    "data = data.astype('float32')*10/(2**16-1)-5\n",
    "AR = np.zeros((order+1,samp))\n",
    "K = np.zeros((order+1,samp))\n",
    "AR[0,:] = 1\n",
    "R0 = np.sum(np.multiply(data,data),axis=1)\n",
    "R = np.zeros((samp,order))\n",
    "for i in range(order):\n",
    "    R[:,i] = np.sum(np.multiply(data[:,:-1*(i+1)],data[:,i+1:]),axis=1)\n",
    "E = cp.deepcopy(R0)\n",
    "AR[1,:] = -R[:,0]/R0\n",
    "K[0,:] = AR[1,:]\n",
    "q = R[:,0]\n",
    "tmp = np.zeros((samp,order))\n",
    "i = 0\n",
    "for i in range(1):\n",
    "    E += np.multiply(q,K[i,:].T)\n",
    "    q = R[:,i+1]\n",
    "    S = np.zeros((samp,))\n",
    "    for k in range(i+1):\n",
    "        S[:] += np.multiply(R[:,k],AR[i+1-k,:].T)\n",
    "    q += S\n",
    "    K[i+1,:] = -q/E\n",
    "    for k in range(i+1):\n",
    "        tmp[:,k] = np.multiply(K[i+1,:],AR[i+1-k,:])\n",
    "\n",
    "    for k in range(1,i+2):\n",
    "        AR[k,:] = AR[k,:] + tmp[:,k-1]\n",
    "\n",
    "    AR[i+2,:] = K[i+1,:]"
   ]
  },
  {
   "cell_type": "code",
   "execution_count": 22,
   "metadata": {},
   "outputs": [],
   "source": [
    "order = 6\n",
    "data = daq[:1,0,...]\n",
    "samp = data.shape[0]\n",
    "data = data.astype('float32')*10/(2**16-1)-5\n",
    "AR = np.zeros((order+1,samp))\n",
    "K = np.zeros((order+1,samp))\n",
    "AR[0,:] = 1\n",
    "R0 = np.sum(np.multiply(data,data),axis=1)\n",
    "R = np.zeros((samp,order))\n",
    "for i in range(order):\n",
    "    R[:,i] = np.sum(np.multiply(data[:,:-1*(i+1)],data[:,i+1:]),axis=1)\n",
    "E = cp.deepcopy(R0)\n",
    "AR[1,:] = -R[:,0]/R0\n",
    "K[0,:] = AR[1,:]\n",
    "q = cp.deepcopy(R[:,0])\n",
    "tmp = np.zeros((samp,order))\n",
    "\n",
    "for i in range(1):\n",
    "    E += np.multiply(q,K[i,:].T)\n",
    "    q = cp.deepcopy(R[:,i+1])\n",
    "    S = np.zeros((samp,))\n",
    "    for k in range(i+1):\n",
    "        print(AR[i+1-k,:])\n",
    "        print(R[:,k])\n",
    "        S[:] += np.multiply(R[:,k],AR[i+1-k,:].T)\n",
    "\n",
    "    q += S\n",
    "    K[i+1,:] = -q/E\n",
    "    for k in range(i+1):\n",
    "        tmp[:,k] = np.multiply(K[i+1,:],AR[i+1-k,:])\n",
    "\n",
    "    for k in range(1,i+2):\n",
    "        AR[k,:] = AR[k,:] + tmp[:,k-1]\n",
    "\n",
    "    AR[i+2,:] = K[i+1,:]"
   ]
  },
  {
   "cell_type": "code",
   "execution_count": null,
   "metadata": {},
   "outputs": [],
   "source": [
    "E += q*K[i,0]\n",
    "    q = R[0,i+1]\n",
    "    S = 0\n",
    "    for k in range(i+1):\n",
    "        S += R[0,k] * AR[i+1-k,0]\n",
    "    q += S\n",
    "    K[i+1,0] = -q/E\n",
    "    for k in range(i+1):\n",
    "        tmp[0,k] = K[i+1,0] * AR[i+1-k,0]\n",
    "\n",
    "    for k in range(1,i+2):\n",
    "        AR[k,0] = AR[k,0] + tmp[0,k-1]\n",
    "\n",
    "    AR[i+2,0] = K[i+1,0]"
   ]
  }
 ],
 "metadata": {
  "interpreter": {
   "hash": "b3ba2566441a7c06988d0923437866b63cedc61552a5af99d1f4fb67d367b25f"
  },
  "kernelspec": {
   "display_name": "Python 3.8.3 ('base')",
   "language": "python",
   "name": "python3"
  },
  "language_info": {
   "codemirror_mode": {
    "name": "ipython",
    "version": 3
   },
   "file_extension": ".py",
   "mimetype": "text/x-python",
   "name": "python",
   "nbconvert_exporter": "python",
   "pygments_lexer": "ipython3",
   "version": "3.7.9"
  },
  "orig_nbformat": 4
 },
 "nbformat": 4,
 "nbformat_minor": 2
}
