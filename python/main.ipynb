{
 "cells": [
  {
   "cell_type": "code",
   "execution_count": 1,
   "metadata": {},
   "outputs": [
    {
     "name": "stderr",
     "output_type": "stream",
     "text": [
      "Using TensorFlow backend.\n"
     ]
    },
    {
     "name": "stdout",
     "output_type": "stream",
     "text": [
      "Num GPUs Available:  1\n"
     ]
    }
   ],
   "source": [
    "%load_ext autoreload\n",
    "%autoreload 2\n",
    "\n",
    "from gpu import set_gpu\n",
    "import numpy as np\n",
    "import os\n",
    "import adapt.utils.data_utils as prd\n",
    "import adapt.loop as lp\n",
    "import matplotlib.pyplot as plt\n",
    "import matplotlib.cm as cm\n",
    "import adapt.ml.dl_subclass as dl\n",
    "import tensorflow as tf\n",
    "\n",
    "set_gpu()"
   ]
  },
  {
   "cell_type": "code",
   "execution_count": 2,
   "metadata": {},
   "outputs": [],
   "source": [
    "path = 'C:/Users/yteh/Documents/work/necal/home data/TR58/DATA/MAT/'\n",
    "all_files = os.listdir(path)\n",
    "train_file = all_files[0]\n",
    "train_file2 = all_files[1]\n",
    "ft= 'feat'"
   ]
  },
  {
   "cell_type": "code",
   "execution_count": 3,
   "metadata": {},
   "outputs": [],
   "source": [
    "all_files = np.delete(all_files,0)"
   ]
  },
  {
   "cell_type": "code",
   "execution_count": 4,
   "metadata": {},
   "outputs": [],
   "source": [
    "train_data, train_params = prd.load_caps_train(path + train_file + '/traindata.mat')\n",
    "train_data = train_data[:,:8,:]\n",
    "\n",
    "train_dof = np.unique(train_params[:,2])\n",
    "key = np.empty(train_dof.shape)\n",
    "for i in range(len(train_dof)):\n",
    "    key[i] = train_params[np.argmax(train_params[:,2] == train_dof[i]),0]"
   ]
  },
  {
   "cell_type": "code",
   "execution_count": 5,
   "metadata": {},
   "outputs": [],
   "source": [
    "train_data2, train_params2 = prd.load_caps_train(path + train_file2 + '/traindata.mat')\n",
    "train_data2 = train_data2[:,:8,:]\n",
    "# train_data = np.vstack((train_data,train_data2))\n",
    "# train_params = np.vstack((train_params,train_params2))"
   ]
  },
  {
   "cell_type": "code",
   "execution_count": 6,
   "metadata": {},
   "outputs": [],
   "source": [
    "# Prep data\n",
    "ep = 30\n",
    "n_dof = len(train_dof)\n",
    "\n",
    "trainmlp, traincnn, y_train, x_train_mlp, x_train_cnn, x_train_lda, y_train_lda, emg_scale, scaler, _, _, _ = prd.prep_train_caps(train_data, train_params, prop_b = False, batch_size=128,ft=ft, noise=True)\n",
    "\n",
    "train_data2, train_params2 = lp.check_labels(train_data2, train_params2, train_dof, key)\n",
    "trainmlp2, traincnn2, y_train2, x_train_mlp2, x_train_cnn2, x_train_lda2, y_train_lda2, emg_scale2, scaler2, _, _, _ = prd.prep_train_caps(train_data2, train_params2, prop_b = False, num_classes=n_dof, batch_size=128, noise=True, scaler=scaler, emg_scale=emg_scale,ft=ft)"
   ]
  },
  {
   "cell_type": "code",
   "execution_count": 7,
   "metadata": {},
   "outputs": [
    {
     "name": "stdout",
     "output_type": "stream",
     "text": [
      "tf.Tensor(10000.538, shape=(), dtype=float32)\n",
      "tf.Tensor(-0.15399396, shape=(), dtype=float32)\n",
      "tf.Tensor(-0.11427677, shape=(), dtype=float32)\n",
      "tf.Tensor(-0.0863899, shape=(), dtype=float32)\n",
      "tf.Tensor(-0.06684375, shape=(), dtype=float32)\n",
      "tf.Tensor(-0.053489685, shape=(), dtype=float32)\n",
      "tf.Tensor(-0.043740153, shape=(), dtype=float32)\n",
      "tf.Tensor(-0.036691666, shape=(), dtype=float32)\n",
      "tf.Tensor(-0.032544374, shape=(), dtype=float32)\n",
      "tf.Tensor(-0.027906537, shape=(), dtype=float32)\n",
      "tf.Tensor(-0.025552332, shape=(), dtype=float32)\n",
      "tf.Tensor(-0.023430169, shape=(), dtype=float32)\n",
      "tf.Tensor(-0.021334648, shape=(), dtype=float32)\n",
      "tf.Tensor(-0.019757569, shape=(), dtype=float32)\n",
      "tf.Tensor(-0.018479645, shape=(), dtype=float32)\n",
      "tf.Tensor(-0.017131686, shape=(), dtype=float32)\n",
      "tf.Tensor(-0.01626426, shape=(), dtype=float32)\n",
      "tf.Tensor(-0.015065432, shape=(), dtype=float32)\n",
      "tf.Tensor(-0.014453769, shape=(), dtype=float32)\n",
      "tf.Tensor(-0.01347065, shape=(), dtype=float32)\n",
      "tf.Tensor(-0.012868106, shape=(), dtype=float32)\n",
      "tf.Tensor(-0.0121276975, shape=(), dtype=float32)\n",
      "tf.Tensor(-0.011671364, shape=(), dtype=float32)\n",
      "tf.Tensor(-0.0112195015, shape=(), dtype=float32)\n",
      "tf.Tensor(-0.010375738, shape=(), dtype=float32)\n",
      "tf.Tensor(-0.009915829, shape=(), dtype=float32)\n",
      "tf.Tensor(-0.009956598, shape=(), dtype=float32)\n",
      "tf.Tensor(-0.009124637, shape=(), dtype=float32)\n",
      "tf.Tensor(-0.008908689, shape=(), dtype=float32)\n",
      "tf.Tensor(-0.008222461, shape=(), dtype=float32)\n",
      "Acc: 0.8705\n"
     ]
    },
    {
     "data": {
      "image/png": "[encoded data removed]",
      "text/plain": [
       "<Figure size 360x252 with 1 Axes>"
      ]
     },
     "metadata": {
      "needs_background": "light"
     },
     "output_type": "display_data"
    }
   ],
   "source": [
    "ewc = dl.EWC()\n",
    "# test_ewc.call(x_train_mlp[:1,...])\n",
    "# test_ewc.star(mlp)\n",
    "# test_ewc.compute_diag_fim(x_train_mlp)\n",
    "lp.train_task(ewc, 30, 1, x_train_mlp,y_train, [x_train_mlp],[y_train], lams=[0])"
   ]
  },
  {
   "cell_type": "code",
   "execution_count": 8,
   "metadata": {},
   "outputs": [
    {
     "name": "stdout",
     "output_type": "stream",
     "text": [
      "0.8705075\n",
      "0.629041\n"
     ]
    }
   ],
   "source": [
    "print(ewc.acc(x=x_train_mlp2, y = y_train2).numpy())"
   ]
  },
  {
   "cell_type": "code",
   "execution_count": 9,
   "metadata": {},
   "outputs": [
    {
     "data": {
      "image/png": "[encoded data removed]",
      "text/plain": [
       "<Figure size 432x288 with 1 Axes>"
      ]
     },
     "metadata": {
      "needs_background": "light"
     },
     "output_type": "display_data"
    }
   ],
   "source": [
    "ewc.compute_fisher(x_train_mlp, num_samples=200, plot_diffs=True) # use validation set for Fisher computation"
   ]
  },
  {
   "cell_type": "code",
   "execution_count": 10,
   "metadata": {},
   "outputs": [],
   "source": [
    "ewc.star()"
   ]
  },
  {
   "cell_type": "code",
   "execution_count": 11,
   "metadata": {},
   "outputs": [
    {
     "name": "stdout",
     "output_type": "stream",
     "text": [
      "tf.Tensor(9999.603, shape=(), dtype=float32)\n",
      "tf.Tensor(-0.0677858, shape=(), dtype=float32)\n",
      "tf.Tensor(-0.03840986, shape=(), dtype=float32)\n",
      "tf.Tensor(-0.026802957, shape=(), dtype=float32)\n",
      "tf.Tensor(-0.022780657, shape=(), dtype=float32)\n",
      "tf.Tensor(-0.018114805, shape=(), dtype=float32)\n",
      "tf.Tensor(-0.015830904, shape=(), dtype=float32)\n",
      "tf.Tensor(-0.01267755, shape=(), dtype=float32)\n",
      "tf.Tensor(-0.011639059, shape=(), dtype=float32)\n",
      "tf.Tensor(-0.010712266, shape=(), dtype=float32)\n",
      "tf.Tensor(-0.00927797, shape=(), dtype=float32)\n",
      "tf.Tensor(-0.009125441, shape=(), dtype=float32)\n",
      "tf.Tensor(-0.0075423717, shape=(), dtype=float32)\n",
      "tf.Tensor(-0.007666707, shape=(), dtype=float32)\n",
      "tf.Tensor(-0.006781459, shape=(), dtype=float32)\n",
      "tf.Tensor(-0.006590724, shape=(), dtype=float32)\n",
      "tf.Tensor(-0.006110966, shape=(), dtype=float32)\n",
      "tf.Tensor(-0.006314546, shape=(), dtype=float32)\n",
      "tf.Tensor(-0.005929649, shape=(), dtype=float32)\n",
      "tf.Tensor(-0.0053962767, shape=(), dtype=float32)\n",
      "Acc: 0.6066\n",
      "Acc: 0.9154\n",
      "tf.Tensor(9999.685, shape=(), dtype=float32)\n",
      "tf.Tensor(-0.057642877, shape=(), dtype=float32)\n",
      "tf.Tensor(-0.029887795, shape=(), dtype=float32)\n",
      "tf.Tensor(-0.019862175, shape=(), dtype=float32)\n",
      "tf.Tensor(-0.01688701, shape=(), dtype=float32)\n",
      "tf.Tensor(-0.014666617, shape=(), dtype=float32)\n",
      "tf.Tensor(-0.011888862, shape=(), dtype=float32)\n",
      "tf.Tensor(-0.010356247, shape=(), dtype=float32)\n",
      "tf.Tensor(-0.009267211, shape=(), dtype=float32)\n",
      "tf.Tensor(-0.008575141, shape=(), dtype=float32)\n",
      "tf.Tensor(-0.0074421763, shape=(), dtype=float32)\n",
      "tf.Tensor(-0.0067587793, shape=(), dtype=float32)\n",
      "tf.Tensor(-0.0059826076, shape=(), dtype=float32)\n",
      "tf.Tensor(-0.005778849, shape=(), dtype=float32)\n",
      "tf.Tensor(-0.005620092, shape=(), dtype=float32)\n",
      "tf.Tensor(-0.00499928, shape=(), dtype=float32)\n",
      "tf.Tensor(-0.0043618083, shape=(), dtype=float32)\n",
      "tf.Tensor(-0.004190117, shape=(), dtype=float32)\n",
      "tf.Tensor(-0.0038494766, shape=(), dtype=float32)\n",
      "tf.Tensor(-0.003759861, shape=(), dtype=float32)\n",
      "Acc: 0.6594\n",
      "Acc: 0.8789\n"
     ]
    },
    {
     "data": {
      "image/png": "[encoded data removed]",
      "text/plain": [
       "<Figure size 720x252 with 2 Axes>"
      ]
     },
     "metadata": {
      "needs_background": "light"
     },
     "output_type": "display_data"
    }
   ],
   "source": [
    "lp.train_task(ewc, 20, 1, x_train_mlp2,y_train2, [x_train_mlp, x_train_mlp2], [y_train,y_train2], lams=[0,15])"
   ]
  },
  {
   "cell_type": "code",
   "execution_count": 13,
   "metadata": {},
   "outputs": [
    {
     "ename": "SyntaxError",
     "evalue": "invalid syntax (<ipython-input-13-ebcf02949cf5>, line 1)",
     "output_type": "error",
     "traceback": [
      "\u001b[1;36m  File \u001b[1;32m\"<ipython-input-13-ebcf02949cf5>\"\u001b[1;36m, line \u001b[1;32m1\u001b[0m\n\u001b[1;33m    sdfa!sd093f\u001b[0m\n\u001b[1;37m        ^\u001b[0m\n\u001b[1;31mSyntaxError\u001b[0m\u001b[1;31m:\u001b[0m invalid syntax\n"
     ]
    }
   ],
   "source": [
    "sdfa!sd093f"
   ]
  },
  {
   "cell_type": "code",
   "execution_count": null,
   "metadata": {},
   "outputs": [],
   "source": [
    "# Initial training\n",
    "mlp, cnn, w, c = lp.train_models(traincnn, trainmlp, x_train_lda, y_train_lda, n_dof, ep=ep)\n",
    "\n",
    "# Test all controllers without recalibration or adaptation\n",
    "acc = np.empty((len(all_files),3))\n",
    "\n",
    "for i in range(1,len(all_files)):\n",
    "    # load data\n",
    "    test_file = all_files[i]\n",
    "    test_data, test_params = prd.load_caps_train(path + test_file + '/traindata.mat')\n",
    "    test_data = test_data[:,:8,:].astype('float64')\n",
    "    \n",
    "    # check class labels\n",
    "    test_data, test_params = lp.check_labels(test_data,test_params,train_dof,key)\n",
    "\n",
    "    # test \n",
    "    y_test, x_test_mlp, x_test_cnn, x_lda, y_lda = prd.prep_test_caps(test_data, test_params, scaler, emg_scale, num_classes=len(train_dof),ft=ft)\n",
    "    acc[i,:] = lp.test_models(x_test_cnn, x_test_mlp, x_lda, y_test, y_lda, cnn, mlp, w, c)\n",
    "\n",
    "    print ('Set: ' + test_file, f'CNN Accuracy: {acc[i,2]:.2f},', f'MLP Accuracy: {acc[i,1]:.2f},', f'LDA Accuracy: {acc[i,0]:.2f}')"
   ]
  },
  {
   "cell_type": "code",
   "execution_count": null,
   "metadata": {},
   "outputs": [],
   "source": [
    "mlp2 = dl.MLP(n_class=n_dof)\n",
    "mlp2.call(x_train_mlp[:1,...])\n",
    "mlp2.set_weights(mlp.get_weights())"
   ]
  },
  {
   "cell_type": "code",
   "execution_count": null,
   "metadata": {},
   "outputs": [],
   "source": [
    "y_test, x_test_mlp, x_test_cnn, x_lda, y_lda = prd.prep_test_caps(train_data, train_params, scaler, emg_scale, num_classes=n_dof,ft=ft)\n",
    "y_test2, x_test_mlp2, x_test_cnn2, x_lda2, y_lda2 = prd.prep_test_caps(train_data2, train_params2, scaler2, emg_scale2, num_classes=n_dof,ft=ft)"
   ]
  },
  {
   "cell_type": "code",
   "execution_count": null,
   "metadata": {},
   "outputs": [],
   "source": [
    "test_mod = dl.get_test()\n",
    "test_loss = tf.keras.metrics.Mean(name='test_loss')\n",
    "test_accuracy = tf.keras.metrics.CategoricalAccuracy(name='test_accuracy')\n",
    "test_mod(x_test_mlp, y_test, mlp, test_loss, test_accuracy)\n",
    "print(test_accuracy.result()*100)\n",
    "\n",
    "test_mod = dl.get_test()\n",
    "test_loss.reset_states()\n",
    "test_accuracy.reset_states()\n",
    "test_mod(x_test_mlp2, y_test2, mlp, test_loss, test_accuracy)\n",
    "print(test_accuracy.result()*100)"
   ]
  },
  {
   "cell_type": "code",
   "execution_count": null,
   "metadata": {},
   "outputs": [],
   "source": [
    "test_mod = dl.get_test()\n",
    "test_loss.reset_states()\n",
    "test_accuracy.reset_states()\n",
    "test_mod(x_test_mlp, y_test, mlp2, test_loss, test_accuracy)\n",
    "print(test_accuracy.result()*100)\n",
    "\n",
    "test_mod = dl.get_test()\n",
    "test_loss.reset_states()\n",
    "test_accuracy.reset_states()\n",
    "test_mod(x_test_mlp2, y_test2, mlp2, test_loss, test_accuracy)\n",
    "print(test_accuracy.result()*100)"
   ]
  },
  {
   "cell_type": "code",
   "execution_count": null,
   "metadata": {},
   "outputs": [],
   "source": [
    "test_mod = dl.get_test()\n",
    "test_loss.reset_states()\n",
    "test_accuracy.reset_states()\n",
    "test_mod(x_test_mlp, y_test, test_ewc, test_loss, test_accuracy)\n",
    "print(test_accuracy.result()*100)\n",
    "\n",
    "test_mod = dl.get_test()\n",
    "test_loss.reset_states()\n",
    "test_accuracy.reset_states()\n",
    "test_mod(x_test_mlp2, y_test2, test_ewc, test_loss, test_accuracy)\n",
    "print(test_accuracy.result()*100)"
   ]
  },
  {
   "cell_type": "code",
   "execution_count": null,
   "metadata": {},
   "outputs": [],
   "source": [
    "# Test all controllers with adaptation\n",
    "ep = 5\n",
    "# Remove extra file if odd number of files\n",
    "if len(all_files)%2 == 0:\n",
    "    all_files = np.delete(all_files,-1)\n",
    "adapt_acc = np.empty((len(all_files),3))\n",
    "adapt_acc[:] = np.nan\n",
    "n_dof = len(train_dof)\n",
    "\n",
    "for i in range(1,len(all_files)-1,2):\n",
    "    # load recalibration data\n",
    "    adapt_file = all_files[i]\n",
    "    adapt_data, adapt_params = prd.load_caps_train(path + adapt_file + '/traindata.mat')\n",
    "    adapt_data = adapt_data[:,:8,:]\n",
    "\n",
    "    # check class labels\n",
    "    adapt_data, adapt_params = lp.check_labels(adapt_data, adapt_params, train_dof, key)\n",
    "    \n",
    "    adaptmlp, adaptcnn, _, _, _, x_train_lda, y_train_lda, emg_scale, scaler, _, _, _ = prd.prep_train_caps(adapt_data, adapt_params, prop_b = False, num_classes=n_dof, batch_size=16, noise=True, scaler=scaler, emg_scale=emg_scale,ft=ft)\n",
    "    mlp, cnn, w, c = lp.train_models(adaptcnn, adaptmlp, x_train_lda, y_train_lda, n_dof, ep, mlp, cnn)\n",
    "    \n",
    "    # load data\n",
    "    test_file = all_files[i+1]\n",
    "    test_data, test_params = prd.load_caps_train(path + test_file + '/traindata.mat')\n",
    "    test_data = test_data[:,:8,:].astype('float64')\n",
    "    \n",
    "    # check class labels\n",
    "    test_data, test_params = lp.check_labels(test_data, test_params, train_dof, key)\n",
    "\n",
    "    # test \n",
    "    y_test, x_test_mlp, x_test_cnn, x_lda, y_lda = prd.prep_test_caps(test_data, test_params, scaler, emg_scale, num_classes=n_dof,ft=ft)\n",
    "    adapt_acc[i+1,:] = lp.test_models(x_test_cnn, x_test_mlp, x_lda, y_test, y_lda, cnn, mlp, w, c)\n",
    "\n",
    "    print ('Adapt: ' + adapt_file + ', Test: ' + test_file, f', CNN Accuracy: {adapt_acc[i+1,2]:.2f},', f'MLP Accuracy: {adapt_acc[i+1,1]:.2f},', f'LDA Accuracy: {adapt_acc[i+1,0]:.2f}')"
   ]
  },
  {
   "cell_type": "code",
   "execution_count": null,
   "metadata": {},
   "outputs": [],
   "source": [
    "# Test all controllers with recalibration\n",
    "ep = 30\n",
    "# Remove extra file if odd number of files\n",
    "if len(all_files)%2 == 0:\n",
    "    all_files = np.delete(all_files,-1)\n",
    "recal_acc = np.empty((len(all_files),3))\n",
    "recal_acc[:] = np.nan\n",
    "\n",
    "for i in range(1,len(all_files)-1,2):\n",
    "    # load recalibration data\n",
    "    recal_file = all_files[i]\n",
    "    recal_data, recal_params = prd.load_caps_train(path + recal_file + '/traindata.mat')\n",
    "    recal_data = recal_data[:,:8,:]\n",
    "\n",
    "    recal_dof = np.unique(recal_params[:,2])\n",
    "    recal_key = np.empty(recal_dof.shape)\n",
    "    for dof_i in range(len(recal_dof)):\n",
    "        recal_key[dof_i] = recal_params[np.argmax(recal_params[:,2] == recal_dof[dof_i]),0]\n",
    "    n_recal_dof = len(recal_dof)\n",
    "    \n",
    "    recalmlp, recalcnn, _, _, _, x_train_lda, y_train_lda, emg_scale, scaler, _, _, _ = prd.prep_train_caps(recal_data, recal_params, prop_b = False,ft=ft,batch_size=32)\n",
    "    mlp, cnn, w, c = lp.train_models(recalcnn, recalmlp, x_train_lda, y_train_lda, n_recal_dof, ep)\n",
    "    \n",
    "    # load data\n",
    "    test_file = all_files[i+1]\n",
    "    test_data, test_params = prd.load_caps_train(path + test_file + '/traindata.mat')\n",
    "    test_data = test_data[:,:8,:].astype('float64')\n",
    "    \n",
    "    # check class labels\n",
    "    test_data, test_params = lp.check_labels(test_data,test_params,recal_dof,recal_key)\n",
    "\n",
    "    # test \n",
    "    y_test, x_test_mlp, x_test_cnn, x_lda, y_lda = prd.prep_test_caps(test_data, test_params, scaler, emg_scale, num_classes=n_recal_dof,ft=ft)\n",
    "    recal_acc[i+1,:] = lp.test_models(x_test_cnn, x_test_mlp, x_lda, y_test, y_lda, cnn, mlp, w, c)\n",
    "\n",
    "    print ('Recal: ' + recal_file + ', Test: ' + test_file, f', CNN Accuracy: {recal_acc[i+1,2]:.2f},', f'MLP Accuracy: {recal_acc[i+1,1]:.2f},', f'LDA Accuracy: {recal_acc[i+1,0]:.2f}')"
   ]
  },
  {
   "cell_type": "code",
   "execution_count": null,
   "metadata": {},
   "outputs": [],
   "source": [
    "# Test all controllers with adaptation\n",
    "ep = 15\n",
    "# Remove extra file if odd number of files\n",
    "if len(all_files)%2 == 0:\n",
    "    all_files = np.delete(all_files,-1)\n",
    "align_acc = np.empty((len(all_files),3))\n",
    "align_acc[:] = np.nan\n",
    "n_dof = len(train_dof)\n",
    "\n",
    "for i in range(1,len(all_files)-1,2):\n",
    "    # load recalibration data\n",
    "    align_file = all_files[i]\n",
    "    align_data, align_params = prd.load_caps_train(path + align_file + '/traindata.mat')\n",
    "    align_data = align_data[:,:8,:]\n",
    "\n",
    "    # check class labels\n",
    "    align_data, align_params = lp.check_labels(align_data, align_params, train_dof, key)\n",
    "    \n",
    "    alignmlp, aligncnn, _, _, _, x_train_lda, y_train_lda, emg_scale, scaler, _, _, _ = prd.prep_train_caps(align_data, align_params, prop_b = False, num_classes=n_dof, batch_size=64, noise=True, scaler=scaler, emg_scale=emg_scale,ft=ft)\n",
    "    mlp, cnn, mlp_ali, cnn_ali, w, c = lp.train_models(aligncnn, alignmlp, x_train_lda, y_train_lda, n_dof, ep, mlp, cnn, align=True)\n",
    "    \n",
    "    # load data\n",
    "    test_file = all_files[i+1]\n",
    "    test_data, test_params = prd.load_caps_train(path + test_file + '/traindata.mat')\n",
    "    test_data = test_data[:,:8,:].astype('float64')\n",
    "    \n",
    "    # check class labels\n",
    "    test_data, test_params = lp.check_labels(test_data, test_params, train_dof, key)\n",
    "\n",
    "    # test \n",
    "    y_test, x_test_mlp, x_test_cnn, x_lda, y_lda = prd.prep_test_caps(test_data, test_params, scaler, emg_scale, num_classes=n_dof,ft=ft)\n",
    "    align_acc[i+1,:] = lp.test_models(x_test_cnn, x_test_mlp, x_lda, y_test, y_lda, cnn, mlp, w, c, cnn_align=cnn_ali, mlp_align=mlp_ali)\n",
    "\n",
    "    print ('Align: ' + align_file + ', Test: ' + test_file, f', CNN Accuracy: {align_acc[i+1,2]:.2f},', f'MLP Accuracy: {align_acc[i+1,1]:.2f},', f'LDA Accuracy: {align_acc[i+1,0]:.2f}')"
   ]
  },
  {
   "cell_type": "code",
   "execution_count": null,
   "metadata": {},
   "outputs": [],
   "source": [
    "if acc.shape[0] > recal_acc.shape[0]:\n",
    "    acc = np.delete(acc,-1,axis=0)"
   ]
  },
  {
   "cell_type": "code",
   "execution_count": null,
   "metadata": {},
   "outputs": [],
   "source": [
    "colors =  cm.get_cmap('tab20c')\n",
    "c = np.empty((20,4))\n",
    "for i in range(20):\n",
    "    c[i,:] = colors(i*1/20)\n",
    "col = np.empty((7,4))\n",
    "col[0,:] = np.array([0,0,0,1])\n",
    "col[1,:] = c[8,:]\n",
    "col[2,:] = c[0,:]\n",
    "col[3,:] = c[9,:]\n",
    "col[4,:] = c[1,:]\n",
    "col[5,:] = c[10,:]\n",
    "col[6,:] = c[2,:]"
   ]
  },
  {
   "cell_type": "code",
   "execution_count": null,
   "metadata": {},
   "outputs": [],
   "source": [
    "for mod in range(1,3):\n",
    "    nnVlda = acc[:,mod] - acc[:,0]\n",
    "    annVlda = adapt_acc[:,mod] - acc[:,0]\n",
    "    rnnVlda = recal_acc[:,mod] - acc[:,0]\n",
    "    nnVrlda = acc[:,mod] - recal_acc[:,0]\n",
    "    annVrlda = adapt_acc[:,mod] - adapt_acc[:,0]\n",
    "    rnnVrlda = recal_acc[:,mod] - recal_acc[:,0]\n",
    "    mask = ~np.isnan(annVrlda)\n",
    "    \n",
    "    fig,ax = plt.subplots(1,3,figsize=(16,4))\n",
    "\n",
    "    ax[0].plot(acc[mask,0],'o-',color=col[0,:])\n",
    "    ax[0].plot(recal_acc[mask,0], 'o--',color=col[0,:])\n",
    "    ax[0].plot(acc[mask,mod],'o-',color=col[mod,:])\n",
    "    ax[0].plot(recal_acc[mask,mod], 's-',color=col[mod+2,:])\n",
    "    ax[0].plot(adapt_acc[mask,mod], 'v-',color=col[mod+4,:])\n",
    "    if mod == 1:\n",
    "        ax[0].legend(['LDA', 'r-LDA', 'MLP', 'r-MLP', 'a-MLP', ])\n",
    "    else:\n",
    "        ax[0].legend(['LDA', 'r-LDA', 'CNN', 'r-CNN', 'a-CNN'])\n",
    "    ax[0].set_ylim([0,100])\n",
    "\n",
    "    ax[1].plot(nnVrlda[mask],'o-',color=col[mod,:])\n",
    "    ax[1].plot(rnnVrlda[mask],'s-',color=col[mod+2,:])\n",
    "    ax[1].plot(annVrlda[mask],'v-',color=col[mod+4,:])\n",
    "    if mod == 1:\n",
    "        ax[1].legend(['MLP vs. r-LDA', 'r-MLP vs. r-LDA', 'a-MLP vs. r-LDA'])\n",
    "    else:\n",
    "        ax[1].legend(['CNN vs. r-LDA', 'r-CNN vs. r-LDA', 'a-CNN vs. r-LDA'])\n",
    "    ax[1].axhline(0, ls = '--',color='black')\n",
    "\n",
    "    ax[2].plot(nnVlda[mask],'o-',color=col[mod,:])\n",
    "    ax[2].plot(rnnVlda[mask],'s-',color=col[mod+2,:])\n",
    "    ax[2].plot(annVlda[mask],'v-',color=col[mod+4,:])\n",
    "    if mod == 1:\n",
    "        ax[2].legend(['MLP vs. LDA', 'r-MLP vs. LDA', 'a-MLP vs. LDA'])\n",
    "    else:\n",
    "        ax[2].legend(['CNN vs. LDA', 'r-CNN vs. LDA', 'a-CNN vs. LDA'])\n",
    "    ax[2].axhline(0, color='black')"
   ]
  },
  {
   "cell_type": "code",
   "execution_count": null,
   "metadata": {},
   "outputs": [],
   "source": [
    "fig,ax = plt.subplots(1,3,figsize=(16,4))\n",
    "x = range(0,acc.shape[0]-2,1)\n",
    "x_skip = range(0,acc.shape[0]-2,2)\n",
    "\n",
    "for i in range(3):\n",
    "    ax[0].plot(x_skip,acc[2::2,i],'o',color=col[i,:], label='_nolegend_')\n",
    "    ax[0].plot(x,acc[2:,i],'-',color=col[i,:])\n",
    "\n",
    "    if i == 0:\n",
    "        ls = 's--'\n",
    "    else:\n",
    "        ls = 's-'\n",
    "    ax[1].plot(x_skip,recal_acc[mask,i], ls,color=col[i,:])\n",
    "\n",
    "    if i > 0:\n",
    "        ax[2].plot(x_skip,adapt_acc[mask,i], 'v-',color=col[i,:])\n",
    "\n",
    "    ax[i].set_ylim([0,100])\n",
    "\n",
    "ax[0].legend(['LDA','MLP','CNN'])\n",
    "ax[1].legend(['r-LDA','r-MLP','r-CNN'])\n",
    "ax[2].legend(['a-MLP','a-CNN'])  "
   ]
  },
  {
   "cell_type": "code",
   "execution_count": null,
   "metadata": {},
   "outputs": [],
   "source": []
  }
 ],
 "metadata": {
  "interpreter": {
   "hash": "96e4d54467b05e62951c9fd7929782b99429e3b62c1a3b146d4f3dbf79f907e6"
  },
  "kernelspec": {
   "display_name": "Python 3.7.9 ('adapt_env')",
   "language": "python",
   "name": "python3"
  },
  "language_info": {
   "codemirror_mode": {
    "name": "ipython",
    "version": 3
   },
   "file_extension": ".py",
   "mimetype": "text/x-python",
   "name": "python",
   "nbconvert_exporter": "python",
   "pygments_lexer": "ipython3",
   "version": "3.7.9"
  },
  "orig_nbformat": 4
 },
 "nbformat": 4,
 "nbformat_minor": 2
}
