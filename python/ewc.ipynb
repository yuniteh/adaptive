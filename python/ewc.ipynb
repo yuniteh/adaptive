{
 "cells": [
  {
   "cell_type": "code",
   "execution_count": null,
   "metadata": {},
   "outputs": [],
   "source": [
    "%load_ext autoreload\n",
    "%autoreload 2\n",
    "\n",
    "from gpu import set_gpu\n",
    "import numpy as np\n",
    "import os\n",
    "import adapt.utils.data_utils as prd\n",
    "import adapt.loop as lp\n",
    "import matplotlib.cm as cm\n",
    "import adapt.ml.dl_subclass as dl\n",
    "import tensorflow as tf\n",
    "from keras.utils import to_categorical\n",
    "import copy as cp\n",
    "\n",
    "set_gpu()"
   ]
  },
  {
   "cell_type": "code",
   "execution_count": null,
   "metadata": {},
   "outputs": [],
   "source": [
    "\n",
    "(x_train, y_train_lda), (x_test, y_test_lda) = tf.keras.datasets.mnist.load_data()\n",
    "x_train = x_train.reshape(x_train.shape[0],-1)\n",
    "y_train = to_categorical(y_train_lda)\n",
    "x_test = x_test.reshape(x_test.shape[0],-1)\n",
    "y_test = to_categorical(y_test_lda)\n",
    "\n",
    "trainmlp = tf.data.Dataset.from_tensor_slices((x_train, y_train, y_train)).shuffle(x_train.shape[0],reshuffle_each_iteration=True).batch(128)\n",
    "\n",
    "# return a new mnist dataset w/ pixels randomly permuted\n",
    "def permute_mnist(mnist):\n",
    "    perm_inds = list(range(mnist.shape[1]))\n",
    "    np.random.shuffle(perm_inds)\n",
    "    mnist2 = cp.deepcopy(mnist)\n",
    "    mnist2 = np.transpose(np.array([mnist2[:,c] for c in perm_inds]))\n",
    "    return mnist2\n",
    "\n",
    "mnistb = permute_mnist(x_train)\n",
    "trainmlp2 = tf.data.Dataset.from_tensor_slices((mnistb, y_train, y_train)).shuffle(x_train.shape[0],reshuffle_each_iteration=True).batch(128)\n"
   ]
  },
  {
   "cell_type": "code",
   "execution_count": null,
   "metadata": {},
   "outputs": [],
   "source": [
    "ep =30\n",
    "mlp, cnn, w, c = lp.train_models(trainmlp, trainmlp, x_train, y_train_lda, 10, ep=ep)\n",
    "mlp2, cnn, w, c = lp.train_models(trainmlp, trainmlp2, x_train, y_train_lda, 10, ep=ep)"
   ]
  },
  {
   "cell_type": "code",
   "execution_count": null,
   "metadata": {},
   "outputs": [],
   "source": [
    "test_ewc = dl.EWC(n_class=10)\n",
    "test_ewc.call(x_train[:1,...])\n",
    "test_ewc.star(mlp)\n",
    "test_ewc.compute_diag_fim(x_train,y_train)"
   ]
  },
  {
   "cell_type": "code",
   "execution_count": null,
   "metadata": {},
   "outputs": [],
   "source": [
    "ep = 100\n",
    "\n",
    "lam = 50\n",
    "optimizer = tf.keras.optimizers.Adam(learning_rate=0.1)\n",
    "train_loss = tf.keras.metrics.Mean(name='train_loss')\n",
    "train_loss2 = tf.keras.metrics.Mean(name='train_loss2')\n",
    "train_accuracy = tf.keras.metrics.CategoricalAccuracy(name='train_accuracy')\n",
    "\n",
    "train_ewc = dl.get_train_ewc()\n",
    "\n",
    "for epoch in range(ep):\n",
    "    train_loss.reset_states()\n",
    "    train_loss2.reset_states()\n",
    "    train_accuracy.reset_states()\n",
    "    for x, y, _ in trainmlp2:\n",
    "        train_ewc(x, y, test_ewc, optimizer, train_loss, train_loss2, train_accuracy, lam=lam)\n",
    "    if epoch == 0 or epoch == ep-1:\n",
    "        print(f'Epoch {epoch + 1}, ', f'Loss: {train_loss.result():.2f}, ', f'Accuracy: {train_loss2.result() * 1:.2f} ')"
   ]
  },
  {
   "cell_type": "code",
   "execution_count": null,
   "metadata": {},
   "outputs": [],
   "source": [
    "test_mod = dl.get_test()\n",
    "test_loss = tf.keras.metrics.Mean(name='test_loss')\n",
    "test_accuracy = tf.keras.metrics.CategoricalAccuracy(name='test_accuracy')\n",
    "test_mod(x_train, y_train, mlp, test_loss, test_accuracy)\n",
    "print(test_accuracy.result()*100)\n",
    "\n",
    "test_mod = dl.get_test()\n",
    "test_loss.reset_states()\n",
    "test_accuracy.reset_states()\n",
    "test_mod(mnistb, y_train, mlp, test_loss, test_accuracy)\n",
    "print(test_accuracy.result()*100)\n",
    "\n",
    "test_mod = dl.get_test()\n",
    "test_loss.reset_states()\n",
    "test_accuracy.reset_states()\n",
    "test_mod(x_train, y_train, mlp2, test_loss, test_accuracy)\n",
    "print(test_accuracy.result()*100)\n",
    "\n",
    "test_mod = dl.get_test()\n",
    "test_loss.reset_states()\n",
    "test_accuracy.reset_states()\n",
    "test_mod(mnistb, y_train, mlp2, test_loss, test_accuracy)\n",
    "print(test_accuracy.result()*100)\n",
    "\n",
    "test_mod = dl.get_test()\n",
    "test_loss.reset_states()\n",
    "test_accuracy.reset_states()\n",
    "test_mod(x_train, y_train, test_ewc, test_loss, test_accuracy)\n",
    "print(test_accuracy.result()*100)\n",
    "\n",
    "test_mod = dl.get_test()\n",
    "test_loss.reset_states()\n",
    "test_accuracy.reset_states()\n",
    "test_mod(mnistb, y_train, test_ewc, test_loss, test_accuracy)\n",
    "print(test_accuracy.result()*100)"
   ]
  }
 ],
 "metadata": {
  "language_info": {
   "name": "python"
  },
  "orig_nbformat": 4
 },
 "nbformat": 4,
 "nbformat_minor": 2
}
